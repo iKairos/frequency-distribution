{
 "cells": [
  {
   "cell_type": "markdown",
   "metadata": {},
   "source": [
    "##### Import necessary libraries"
   ]
  },
  {
   "cell_type": "code",
   "execution_count": 154,
   "metadata": {},
   "outputs": [],
   "source": [
    "import pandas as pd"
   ]
  },
  {
   "cell_type": "markdown",
   "metadata": {},
   "source": [
    "##### Read data"
   ]
  },
  {
   "cell_type": "code",
   "execution_count": 155,
   "metadata": {},
   "outputs": [],
   "source": [
    "df = pd.read_csv('CompanyABCProfit.csv')"
   ]
  },
  {
   "cell_type": "code",
   "execution_count": 156,
   "metadata": {},
   "outputs": [
    {
     "data": {
      "text/html": [
       "<div>\n",
       "<style scoped>\n",
       "    .dataframe tbody tr th:only-of-type {\n",
       "        vertical-align: middle;\n",
       "    }\n",
       "\n",
       "    .dataframe tbody tr th {\n",
       "        vertical-align: top;\n",
       "    }\n",
       "\n",
       "    .dataframe thead th {\n",
       "        text-align: right;\n",
       "    }\n",
       "</style>\n",
       "<table border=\"1\" class=\"dataframe\">\n",
       "  <thead>\n",
       "    <tr style=\"text-align: right;\">\n",
       "      <th></th>\n",
       "      <th>Year</th>\n",
       "      <th>Profit(Rs '000)</th>\n",
       "    </tr>\n",
       "  </thead>\n",
       "  <tbody>\n",
       "    <tr>\n",
       "      <th>0</th>\n",
       "      <td>1821</td>\n",
       "      <td>1645</td>\n",
       "    </tr>\n",
       "    <tr>\n",
       "      <th>1</th>\n",
       "      <td>1822</td>\n",
       "      <td>658</td>\n",
       "    </tr>\n",
       "    <tr>\n",
       "      <th>2</th>\n",
       "      <td>1823</td>\n",
       "      <td>1926</td>\n",
       "    </tr>\n",
       "    <tr>\n",
       "      <th>3</th>\n",
       "      <td>1824</td>\n",
       "      <td>865</td>\n",
       "    </tr>\n",
       "    <tr>\n",
       "      <th>4</th>\n",
       "      <td>1825</td>\n",
       "      <td>764</td>\n",
       "    </tr>\n",
       "  </tbody>\n",
       "</table>\n",
       "</div>"
      ],
      "text/plain": [
       "   Year  Profit(Rs '000)\n",
       "0  1821             1645\n",
       "1  1822              658\n",
       "2  1823             1926\n",
       "3  1824              865\n",
       "4  1825              764"
      ]
     },
     "execution_count": 156,
     "metadata": {},
     "output_type": "execute_result"
    }
   ],
   "source": [
    "df.head()"
   ]
  },
  {
   "cell_type": "markdown",
   "metadata": {},
   "source": [
    "##### Calculate size of dataset"
   ]
  },
  {
   "cell_type": "code",
   "execution_count": 157,
   "metadata": {},
   "outputs": [],
   "source": [
    "col = \"Profit(Rs '000)\"\n",
    "size = len(df[col])"
   ]
  },
  {
   "cell_type": "markdown",
   "metadata": {},
   "source": [
    "##### Calculate number of classes\n",
    "\n",
    "$\n",
    "    2^k >= n\n",
    "$\n",
    "\n",
    "##### Note: Get the first $k$ that makes the equation true."
   ]
  },
  {
   "cell_type": "code",
   "execution_count": 158,
   "metadata": {},
   "outputs": [
    {
     "data": {
      "text/plain": [
       "8"
      ]
     },
     "execution_count": 158,
     "metadata": {},
     "output_type": "execute_result"
    }
   ],
   "source": [
    "num_classes = 1\n",
    "\n",
    "while(True):\n",
    "    if 2 ** num_classes >= size:\n",
    "        break\n",
    "    else:\n",
    "        num_classes += 1\n",
    "\n",
    "num_classes\n",
    "    "
   ]
  },
  {
   "cell_type": "markdown",
   "metadata": {},
   "source": [
    "##### Find the class width\n",
    "\n",
    "$\n",
    "    \\text{class\\_width} = \\frac{\\text{range}}{\\text{number\\_of\\_classes}}\n",
    "$\n",
    "\n",
    "##### Range equation:\n",
    "\n",
    "$\n",
    "    \\text{range} = \\text{highest\\_value} - \\text{lowest\\_value}\n",
    "$"
   ]
  },
  {
   "cell_type": "code",
   "execution_count": 159,
   "metadata": {},
   "outputs": [
    {
     "data": {
      "text/plain": [
       "309"
      ]
     },
     "execution_count": 159,
     "metadata": {},
     "output_type": "execute_result"
    }
   ],
   "source": [
    "rng = df[col].max() - df[col].min()\n",
    "\n",
    "class_width = rng / num_classes\n",
    "\n",
    "import math\n",
    "class_width = math.ceil(class_width)\n",
    "\n",
    "class_width"
   ]
  },
  {
   "cell_type": "markdown",
   "metadata": {},
   "source": [
    "##### Determine the lower and upper limits.\n",
    "\n",
    "##### Lower limits:\n",
    "$\n",
    "    \\text{lower\\_limits} = \\text{previous\\_class\\_lower\\_limit} + \\text{class\\_width}\n",
    "$\n",
    "\n",
    "##### Upper limits:\n",
    "$\n",
    "    \\text{upper\\_limits} = \\text{next\\_class\\_lower\\_limit} - 1\n",
    "$"
   ]
  },
  {
   "cell_type": "code",
   "execution_count": 160,
   "metadata": {},
   "outputs": [
    {
     "data": {
      "text/plain": [
       "([-413, -104, 205, 514, 823, 1132, 1441, 1750],\n",
       " [-105, 204, 513, 822, 1131, 1440, 1749, 2058])"
      ]
     },
     "execution_count": 160,
     "metadata": {},
     "output_type": "execute_result"
    }
   ],
   "source": [
    "lower_limits = []\n",
    "upper_limits = []\n",
    "\n",
    "epoch = df[col].min()\n",
    "\n",
    "for _ in range(num_classes):\n",
    "    lower_limits.append(epoch)\n",
    "    epoch += class_width\n",
    "\n",
    "    upper_limits.append(epoch - 1)\n",
    "\n",
    "lower_limits, upper_limits"
   ]
  },
  {
   "cell_type": "markdown",
   "metadata": {},
   "source": [
    "##### Calculate frequency for every interval"
   ]
  },
  {
   "cell_type": "code",
   "execution_count": 161,
   "metadata": {},
   "outputs": [
    {
     "ename": "SyntaxError",
     "evalue": "invalid syntax (Temp/ipykernel_1296/2718510746.py, line 10)",
     "output_type": "error",
     "traceback": [
      "\u001b[1;36m  File \u001b[1;32m\"C:\\Users\\warfr\\AppData\\Local\\Temp/ipykernel_1296/2718510746.py\"\u001b[1;36m, line \u001b[1;32m10\u001b[0m\n\u001b[1;33m    freq_distrib\u001b[0m\n\u001b[1;37m    ^\u001b[0m\n\u001b[1;31mSyntaxError\u001b[0m\u001b[1;31m:\u001b[0m invalid syntax\n"
     ]
    }
   ],
   "source": [
    "freq_distrib = []\n",
    "\n",
    "for index in range(num_classes):\n",
    "    lower = lower_limits[index]\n",
    "    upper = upper_limits[index]\n",
    "\n",
    "    res = df[(df[col] >= lower) & (df[col] <= upper)]\n",
    "    freq_distrib.append((f\"{lower} - {upper}\", int(len(res))))\n",
    "\n",
    "freq_distrib"
   ]
  },
  {
   "cell_type": "markdown",
   "metadata": {},
   "source": [
    "##### Plot the distribution"
   ]
  },
  {
   "cell_type": "code",
   "execution_count": null,
   "metadata": {},
   "outputs": [
    {
     "data": {
      "image/png": "[encoded data removed]",
      "text/plain": [
       "<Figure size 432x288 with 1 Axes>"
      ]
     },
     "metadata": {
      "needs_background": "light"
     },
     "output_type": "display_data"
    }
   ],
   "source": [
    "import matplotlib.pyplot as plt\n",
    "\n",
    "plt.bar([i[0] for i in freq_distrib], [i[1] for i in freq_distrib], width=1, edgecolor = \"black\")\n",
    "plt.xticks(rotation=45)\n",
    "plt.show()"
   ]
  },
  {
   "cell_type": "code",
   "execution_count": null,
   "metadata": {},
   "outputs": [],
   "source": []
  }
 ],
 "metadata": {
  "interpreter": {
   "hash": "11edc232916963630ba8b2de9ec795e21d9466ea04656a5dd6f05d0924d6725e"
  },
  "kernelspec": {
   "display_name": "Python 3.9.4 64-bit",
   "language": "python",
   "name": "python3"
  },
  "language_info": {
   "codemirror_mode": {
    "name": "ipython",
    "version": 3
   },
   "file_extension": ".py",
   "mimetype": "text/x-python",
   "name": "python",
   "nbconvert_exporter": "python",
   "pygments_lexer": "ipython3",
   "version": "3.9.4"
  },
  "orig_nbformat": 4
 },
 "nbformat": 4,
 "nbformat_minor": 2
}
